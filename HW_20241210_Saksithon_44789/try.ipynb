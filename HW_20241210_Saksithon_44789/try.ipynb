{
 "cells": [
  {
   "cell_type": "markdown",
   "metadata": {},
   "source": [
    "1.ทำไมต้องใช้ try-except?\n",
    "\n",
    "\"ลองจินตนาการดูครับ ถ้าเราเขียนโปรแกรมให้หารตัวเลข แต่ผู้ใช้ดันป้อนเลขศูนย์ หรือป้อนข้อมูลที่ไม่ใช่ตัวเลข โปรแกรมจะหยุดทำงานทันที และแสดงข้อความ Error แบบนี้\""
   ]
  },
  {
   "cell_type": "code",
   "execution_count": null,
   "metadata": {},
   "outputs": [],
   "source": [
    "result = 10 / 0  # ZeroDivisionError"
   ]
  },
  {
   "cell_type": "markdown",
   "metadata": {},
   "source": [
    "2.โครงสร้างของ try-except"
   ]
  },
  {
   "cell_type": "code",
   "execution_count": null,
   "metadata": {},
   "outputs": [],
   "source": [
    "try:\n",
    "    # ใส่โค้ดที่อาจเกิดข้อผิดพลาด\n",
    "    result = 10 / 0\n",
    "except ZeroDivisionError: # ระบุชนิดของข้อผิดพลาดที่ต้องการจัดการ\n",
    "    # ใส่โค้ดที่ใช้จัดการข้อผิดพลาด\n",
    "    print(\"ไม่สามารถหารด้วยศูนย์ได้\")\n"
   ]
  },
  {
   "cell_type": "markdown",
   "metadata": {},
   "source": [
    "3.ตัวอย่างการใช้งาน\n",
    "\n",
    "\"เรามาดูตัวอย่างง่าย ๆ กันครับ สมมติว่าเราต้องการหารตัวเลขที่ผู้ใช้ป้อน เราจะใช้ try-except เพื่อจัดการกับกรณีที่ผู้ใช้ป้อนศูนย์หรือป้อนข้อมูลผิด\""
   ]
  },
  {
   "cell_type": "code",
   "execution_count": null,
   "metadata": {},
   "outputs": [],
   "source": [
    "try:\n",
    "    num = int(input(\"กรุณาป้อนตัวเลข: \"))  # อาจเกิด ValueError\n",
    "    result = 10 / num  # อาจเกิด ZeroDivisionError\n",
    "    print(f\"ผลลัพธ์คือ: {result}\")\n",
    "except ZeroDivisionError:\n",
    "    print(\"ข้อผิดพลาด: ไม่สามารถหารด้วยศูนย์ได้!\")\n",
    "except ValueError:\n",
    "    print(\"ข้อผิดพลาด: กรุณาป้อนตัวเลขที่ถูกต้อง!\")"
   ]
  },
  {
   "cell_type": "markdown",
   "metadata": {},
   "source": [
    "4.การจับข้อผิดพลาดหลายประเภท"
   ]
  },
  {
   "cell_type": "code",
   "execution_count": null,
   "metadata": {},
   "outputs": [],
   "source": [
    "try:\n",
    "    num = int(input(\"กรุณาป้อนตัวเลข: \"))\n",
    "    result = 10 / num\n",
    "except Exception as e:\n",
    "    print(f\"เกิดข้อผิดพลาด: {e}\")"
   ]
  },
  {
   "cell_type": "markdown",
   "metadata": {},
   "source": [
    "5.การใช้ else และ finally\n",
    "\n",
    "ใน try-except เราสามารถเพิ่มบล็อก else และ finally ได้:\n",
    "\n",
    "else: ใช้สำหรับโค้ดที่ต้องการให้ทำงานเมื่อไม่มีข้อผิดพลาด\n",
    "finally: ใช้สำหรับโค้ดที่ต้องการให้ทำงานเสมอ ไม่ว่าจะเกิดข้อผิดพลาดหรือไม่"
   ]
  },
  {
   "cell_type": "code",
   "execution_count": null,
   "metadata": {},
   "outputs": [],
   "source": [
    "try:\n",
    "    num = int(input(\"ป้อนตัวเลขที่ไม่ใช่ศูนย์: \"))\n",
    "    result = 10 / num\n",
    "except ZeroDivisionError:\n",
    "    print(\"ข้อผิดพลาด: ไม่สามารถหารด้วยศูนย์ได้!\")\n",
    "except ValueError:\n",
    "    print(\"ข้อผิดพลาด: กรุณาป้อนตัวเลขที่ถูกต้อง!\")\n",
    "else:\n",
    "    print(f\"ผลลัพธ์: {result}\")\n",
    "finally:\n",
    "    print(\"สิ้นสุดการทำงาน\")"
   ]
  },
  {
   "cell_type": "markdown",
   "metadata": {},
   "source": [
    "6.ตัวอย่างการใช้งาน"
   ]
  },
  {
   "cell_type": "code",
   "execution_count": null,
   "metadata": {},
   "outputs": [],
   "source": [
    "try:\n",
    "    with open(\"data.txt\", \"r\") as file:\n",
    "        content = file.read()\n",
    "        print(content)\n",
    "except FileNotFoundError:\n",
    "    print(\"ข้อผิดพลาด: ไม่พบไฟล์ที่ต้องการ!\")"
   ]
  }
 ],
 "metadata": {
  "kernelspec": {
   "display_name": "venv",
   "language": "python",
   "name": "python3"
  },
  "language_info": {
   "codemirror_mode": {
    "name": "ipython",
    "version": 3
   },
   "file_extension": ".py",
   "mimetype": "text/x-python",
   "name": "python",
   "nbconvert_exporter": "python",
   "pygments_lexer": "ipython3",
   "version": "3.13.0"
  }
 },
 "nbformat": 4,
 "nbformat_minor": 2
}
