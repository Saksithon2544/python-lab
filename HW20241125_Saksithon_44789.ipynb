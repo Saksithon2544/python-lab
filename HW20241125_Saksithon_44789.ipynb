{
 "cells": [
  {
   "cell_type": "code",
   "execution_count": 1,
   "id": "13e79925",
   "metadata": {},
   "outputs": [
    {
     "name": "stdout",
     "output_type": "stream",
     "text": [
      "Hi Nice\n"
     ]
    }
   ],
   "source": [
    "print(\"Hi Nice\")"
   ]
  },
  {
   "cell_type": "code",
   "execution_count": null,
   "id": "37d24a19",
   "metadata": {},
   "outputs": [
    {
     "data": {
      "text/plain": [
       "True"
      ]
     },
     "execution_count": 2,
     "metadata": {},
     "output_type": "execute_result"
    }
   ],
   "source": [
    "12 > 4      "
   ]
  },
  {
   "cell_type": "code",
   "execution_count": 3,
   "id": "1a012207",
   "metadata": {},
   "outputs": [
    {
     "data": {
      "text/plain": [
       "False"
      ]
     },
     "execution_count": 3,
     "metadata": {},
     "output_type": "execute_result"
    }
   ],
   "source": [
    "a = '1234abc'\n",
    "a.isdigit()"
   ]
  },
  {
   "cell_type": "code",
   "execution_count": 4,
   "id": "2fb6e0ba",
   "metadata": {},
   "outputs": [
    {
     "name": "stdout",
     "output_type": "stream",
     "text": [
      "BMI of Saksithon is: 38\n"
     ]
    }
   ],
   "source": [
    "name = input('What is your name: ' )\n",
    "height = int(input('What is your height in cm: ') )\n",
    "weight = int(input('What is your weight in kg:') )\n",
    "BMI = int(weight/height/height*10000)\n",
    "print('BMI of', name, 'is:', BMI)"
   ]
  },
  {
   "cell_type": "code",
   "execution_count": null,
   "id": "708de68e",
   "metadata": {},
   "outputs": [
    {
     "name": "stdout",
     "output_type": "stream",
     "text": [
      "Age: <class 'int'> 25\n",
      "Height: <class 'float'> 5.9\n",
      "Name: <class 'str'> Saksithon\n",
      "Is Student: <class 'bool'> True\n"
     ]
    }
   ],
   "source": [
    "# Defining variables\n",
    "age = 25  # Integer variable\n",
    "height = 5.9  # Float variable\n",
    "name = \"Saksithon\" # String variable\n",
    "is_student = True  # Boolean variable\n",
    "\n",
    "# Printing all the variables\n",
    "print(\"Age:\", type(age), age)\n",
    "print(\"Height:\", type(height), height)\n",
    "print(\"Name:\", type(name), name)\n",
    "print(\"Is Student:\", type(is_student), is_student)\n"
   ]
  }
 ],
 "metadata": {
  "kernelspec": {
   "display_name": "Python 3",
   "language": "python",
   "name": "python3"
  },
  "language_info": {
   "codemirror_mode": {
    "name": "ipython",
    "version": 3
   },
   "file_extension": ".py",
   "mimetype": "text/x-python",
   "name": "python",
   "nbconvert_exporter": "python",
   "pygments_lexer": "ipython3",
   "version": "3.13.0"
  }
 },
 "nbformat": 4,
 "nbformat_minor": 5
}
