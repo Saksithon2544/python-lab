{
 "cells": [
  {
   "cell_type": "code",
   "execution_count": null,
   "metadata": {},
   "outputs": [
    {
     "name": "stdout",
     "output_type": "stream",
     "text": [
      "Scanning network: 192.168.113.0/24\n"
     ]
    }
   ],
   "source": [
    "import socket\n",
    "from concurrent.futures import ThreadPoolExecutor\n",
    "import ipaddress\n",
    "\n",
    "def scan_port(ip, port):\n",
    "    \"\"\"ตรวจสอบพอร์ตของ IP ว่าเปิดหรือไม่\"\"\"\n",
    "    try:\n",
    "        with socket.socket(socket.AF_INET, socket.SOCK_STREAM) as s:\n",
    "            s.settimeout(1)\n",
    "            s.connect((ip, port))\n",
    "            return port\n",
    "    except:\n",
    "        return None\n",
    "\n",
    "def scan_ip(ip, ports):\n",
    "    \"\"\"สแกนพอร์ตของ IP\"\"\"\n",
    "    open_ports = []\n",
    "    for port in ports:\n",
    "        if (result := scan_port(ip, port)):\n",
    "            open_ports.append(result)\n",
    "    return ip, open_ports\n",
    "\n",
    "def network_port_scan(network_range, port_range, output_file):\n",
    "    \"\"\"สแกนทั้งวง IP และพอร์ต พร้อมบันทึกผลลัพธ์\"\"\"\n",
    "    print(f\"Scanning network: {network_range}\")\n",
    "    network = ipaddress.ip_network(network_range, strict=False)\n",
    "    ports = list(port_range)\n",
    "\n",
    "    results = []\n",
    "    with ThreadPoolExecutor(max_workers=100) as executor:\n",
    "        futures = [executor.submit(scan_ip, str(ip), ports) for ip in network.hosts()]\n",
    "        for future in futures:\n",
    "            ip, open_ports = future.result()\n",
    "            if open_ports:\n",
    "                results.append((ip, open_ports))\n",
    "\n",
    "    # บันทึกผลลัพธ์ลงไฟล์\n",
    "    with open(output_file, \"w\") as f:\n",
    "        if results:\n",
    "            f.write(\"Scan Results:\\n\")\n",
    "            for ip, open_ports in results:\n",
    "                f.write(f\"{ip} -> Open Ports: {open_ports}\\n\")\n",
    "            print(f\"\\nResults saved to {output_file}\")\n",
    "        else:\n",
    "            f.write(\"No open ports found in the network.\\n\")\n",
    "            print(f\"\\nNo open ports found. Results saved to {output_file}\")\n",
    "\n",
    "if __name__ == \"__main__\":\n",
    "    network_range = \"192.168.60.0/24\"  # ช่วงเครือข่ายที่ต้องการสแกน\n",
    "    port_range = range(1, 1025)       # ช่วงพอร์ตที่ต้องการสแกน\n",
    "    output_file = \"scan_results.txt\"  # ชื่อไฟล์สำหรับบันทึกผลลัพธ์\n",
    "    network_port_scan(network_range, port_range, output_file)\n"
   ]
  },
  {
   "cell_type": "code",
   "execution_count": null,
   "metadata": {},
   "outputs": [],
   "source": [
    "from scapy.all import ARP, Ether, srp\n",
    "import ipaddress\n",
    "\n",
    "def network_scan(network_range):\n",
    "    # สร้าง IP Range\n",
    "    try:\n",
    "        ip_net = ipaddress.ip_network(network_range, strict=False)\n",
    "    except ValueError as e:\n",
    "        print(f\"Invalid network range: {e}\")\n",
    "        return\n",
    "\n",
    "    # เตรียม Packet ARP เพื่อสแกน\n",
    "    arp = ARP(pdst=str(ip_net))\n",
    "    ether = Ether(dst=\"ff:ff:ff:ff:ff:ff\")\n",
    "    packet = ether / arp\n",
    "\n",
    "    print(f\"Scanning network: {network_range}\")\n",
    "\n",
    "    # ส่ง Packet ARP และรับคำตอบ\n",
    "    result = srp(packet, timeout=2, verbose=0)[0]\n",
    "\n",
    "    devices = []\n",
    "    for sent, received in result:\n",
    "        devices.append({'ip': received.psrc, 'mac': received.hwsrc})\n",
    "\n",
    "    if devices:\n",
    "        print(\"\\nAvailable devices in the network:\")\n",
    "        print(\"IP Address\\t\\tMAC Address\")\n",
    "        print(\"-\" * 40)\n",
    "        for device in devices:\n",
    "            print(f\"{device['ip']}\\t\\t{device['mac']}\")\n",
    "    else:\n",
    "        print(\"No devices found on the network.\")\n",
    "\n",
    "if __name__ == \"__main__\":\n",
    "    # ตัวอย่างการใช้งาน\n",
    "    network_range = \"192.168.60.0/24\"  # เปลี่ยนเป็นวง IP ที่คุณใช้งาน\n",
    "    network_scan(network_range)\n"
   ]
  }
 ],
 "metadata": {
  "kernelspec": {
   "display_name": "env",
   "language": "python",
   "name": "python3"
  },
  "language_info": {
   "codemirror_mode": {
    "name": "ipython",
    "version": 3
   },
   "file_extension": ".py",
   "mimetype": "text/x-python",
   "name": "python",
   "nbconvert_exporter": "python",
   "pygments_lexer": "ipython3",
   "version": "3.13.0"
  }
 },
 "nbformat": 4,
 "nbformat_minor": 2
}
