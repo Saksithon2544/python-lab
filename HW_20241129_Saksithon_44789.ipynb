{
 "cells": [
  {
   "cell_type": "code",
   "execution_count": 6,
   "metadata": {},
   "outputs": [
    {
     "name": "stdout",
     "output_type": "stream",
     "text": [
      "Scanning IP: 192.168.113.201\n",
      "Open ports on 192.168.113.201: [135, 139, 445, 902, 912]\n"
     ]
    }
   ],
   "source": [
    "import socket\n",
    "from concurrent.futures import ThreadPoolExecutor\n",
    "\n",
    "def scan_port(ip, port):\n",
    "    try:\n",
    "        # พยายามเชื่อมต่อไปยังพอร์ตเป้าหมาย\n",
    "        with socket.socket(socket.AF_INET, socket.SOCK_STREAM) as s:\n",
    "            s.settimeout(1)  # ตั้ง timeout\n",
    "            s.connect((ip, port))\n",
    "            return port\n",
    "    except:\n",
    "        return None\n",
    "\n",
    "def port_scan(target_ip, ports):\n",
    "    print(f\"Scanning IP: {target_ip}\")\n",
    "    open_ports = []\n",
    "\n",
    "    # ใช้ ThreadPoolExecutor เพื่อเพิ่มความเร็วในการสแกน\n",
    "    with ThreadPoolExecutor(max_workers=100) as executor:\n",
    "        results = executor.map(lambda port: scan_port(target_ip, port), ports)\n",
    "\n",
    "    # เก็บพอร์ตที่เปิดไว้ในรายการ\n",
    "    open_ports = [port for port in results if port]\n",
    "\n",
    "    if open_ports:\n",
    "        print(f\"Open ports on {target_ip}: {open_ports}\")\n",
    "    else:\n",
    "        print(f\"No open ports found on {target_ip}.\")\n",
    "\n",
    "if __name__ == \"__main__\":\n",
    "    target_ip = \"192.168.113.201\"  # IP เป้าหมาย (เปลี่ยนเป็น IP ที่ต้องการสแกน)\n",
    "    port_range = range(1, 1025)  # ช่วงพอร์ตที่ต้องการสแกน (1-1024)\n",
    "    port_scan(target_ip, port_range)\n"
   ]
  }
 ],
 "metadata": {
  "kernelspec": {
   "display_name": "env",
   "language": "python",
   "name": "python3"
  },
  "language_info": {
   "codemirror_mode": {
    "name": "ipython",
    "version": 3
   },
   "file_extension": ".py",
   "mimetype": "text/x-python",
   "name": "python",
   "nbconvert_exporter": "python",
   "pygments_lexer": "ipython3",
   "version": "3.13.0"
  }
 },
 "nbformat": 4,
 "nbformat_minor": 2
}
