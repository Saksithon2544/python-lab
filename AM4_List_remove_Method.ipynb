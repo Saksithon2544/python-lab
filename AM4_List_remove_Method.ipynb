{
 "cells": [
  {
   "cell_type": "code",
   "execution_count": 1,
   "metadata": {},
   "outputs": [
    {
     "name": "stdout",
     "output_type": "stream",
     "text": [
      "['cat', 'dog', 'bird', 'fish']\n"
     ]
    }
   ],
   "source": [
    "# Assignment 4: List remove() Method\n",
    "# Objective: Learn how to remove specific elements from a list using remove().\n",
    "\n",
    "# Step 1: Create a list named animals containing \"cat\", \"dog\", \"rabbit\", \"bird\", \"fish\".\n",
    "animals = [\"cat\", \"dog\", \"rabbit\", \"bird\", \"fish\"]\n",
    "\n",
    "# Step 2: Use the remove() method to remove \"rabbit\" from the list.\n",
    "animals.remove(\"rabbit\")\n",
    "\n",
    "# Step 3: Print the list.\n",
    "print(animals)"
   ]
  }
 ],
 "metadata": {
  "kernelspec": {
   "display_name": "Python 3",
   "language": "python",
   "name": "python3"
  },
  "language_info": {
   "codemirror_mode": {
    "name": "ipython",
    "version": 3
   },
   "file_extension": ".py",
   "mimetype": "text/x-python",
   "name": "python",
   "nbconvert_exporter": "python",
   "pygments_lexer": "ipython3",
   "version": "3.13.0"
  }
 },
 "nbformat": 4,
 "nbformat_minor": 2
}
