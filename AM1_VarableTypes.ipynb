{
 "cells": [
  {
   "cell_type": "code",
   "execution_count": 7,
   "id": "708de68e",
   "metadata": {},
   "outputs": [
    {
     "name": "stdout",
     "output_type": "stream",
     "text": [
      "Age: 25\n",
      "Height: 5.9\n",
      "Name: Saksithon\n",
      "Is Student: True\n",
      "Age: 25 Height: 5.9 Name: Saksithon Is Student: True\n",
      "Age: 25 Height: 5.9 Name: Saksithon Is Student: True\n",
      "Age: 25 Height: 5.9 Name: Saksithon Is Student: True\n",
      "Age: 25 Height: 5.9 Name: Saksithon Is Student: True\n",
      "Age: 25 Height: 5.900000 Name: Saksithon Is Student: True\n",
      "25 | 5.9 | Saksithon | True\n",
      "25 25 is type =  <class 'int'>\n",
      "5.9 is type =  <class 'float'>\n",
      "Saksithon is type =  <class 'str'>\n",
      "True is type =  <class 'bool'>\n"
     ]
    }
   ],
   "source": [
    "# Defining variables\n",
    "age = 25  # Integer variable\n",
    "height = 5.9  # Float variable\n",
    "name = \"Saksithon\" # String variable\n",
    "is_student = True  # Boolean variable\n",
    "\n",
    "# Printing all the variables\n",
    "print(\"Age:\", age)\n",
    "print(\"Height:\", height)\n",
    "print(\"Name:\", name)\n",
    "print(\"Is Student:\", is_student)\n",
    "\n",
    "#Did you know that you can also print multiple variables in one line?\n",
    "print(\"Age:\", age, \"Height:\", height, \"Name:\", name, \"Is Student:\", is_student)\n",
    "\n",
    "#You can also use the format() method to print variables\n",
    "print(\"Age: {} Height: {} Name: {} Is Student: {}\".format(age, height, name, is_student))\n",
    "\n",
    "#You can also use f-string to print variables\n",
    "print(f\"Age: {age} Height: {height} Name: {name} Is Student: {is_student}\")\n",
    "\n",
    "#You can also use the + operator to concatenate strings\n",
    "print(\"Age: \" + str(age) + \" Height: \" + str(height) + \" Name: \" + name + \" Is Student: \" + str(is_student))\n",
    "\n",
    "#You can also use the % operator to format strings\n",
    "print(\"Age: %d Height: %f Name: %s Is Student: %s\" % (age, height, name, is_student))\n",
    "\n",
    "#You can also use the sep parameter to separate the variables\n",
    "print(age, height, name, is_student, sep=\" | \")\n",
    "\n",
    "#You can also use the end parameter to end the print statement with a different character\n",
    "print(age, end=\" \")\n",
    "\n",
    "#You can see the data type of a variable using the type() function\n",
    "print(age, \"is type = \", type(age))\n",
    "print(height, \"is type = \", type(height))\n",
    "print(name, \"is type = \", type(name))\n",
    "print(is_student, \"is type = \", type(is_student))\n",
    "\n"
   ]
  }
 ],
 "metadata": {
  "kernelspec": {
   "display_name": "Python 3",
   "language": "python",
   "name": "python3"
  },
  "language_info": {
   "codemirror_mode": {
    "name": "ipython",
    "version": 3
   },
   "file_extension": ".py",
   "mimetype": "text/x-python",
   "name": "python",
   "nbconvert_exporter": "python",
   "pygments_lexer": "ipython3",
   "version": "3.13.0"
  }
 },
 "nbformat": 4,
 "nbformat_minor": 5
}
