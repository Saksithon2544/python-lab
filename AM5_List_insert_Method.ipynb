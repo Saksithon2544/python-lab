{
 "cells": [
  {
   "cell_type": "code",
   "execution_count": 1,
   "metadata": {},
   "outputs": [
    {
     "name": "stdout",
     "output_type": "stream",
     "text": [
      "[1, 2, 3, 4, 5, 6]\n",
      "[0, 1, 2, 3, 4, 5, 6]\n"
     ]
    }
   ],
   "source": [
    "#Assignment 5: List insert() Method\n",
    "#Objective: Learn how to insert elements at specific positions in a list using insert().\n",
    "\n",
    "# Step 1: Create a list named numbers containing the integers 1, 2, 4, 5, 6.\n",
    "numbers = [1, 2, 4, 5, 6]\n",
    "\n",
    "# Step 2: Use the insert() method to add the number 3 between 2 and 4.\n",
    "numbers.insert(2, 3)\n",
    "\n",
    "# Step 3: Print the list.\n",
    "print(numbers)\n",
    "\n",
    "# Step 4: Insert the number 0 at the beginning of the list.\n",
    "numbers.insert(0, 0)\n",
    "\n",
    "# Step 5: Print the final list of numbers.\n",
    "print(numbers)"
   ]
  }
 ],
 "metadata": {
  "kernelspec": {
   "display_name": "Python 3",
   "language": "python",
   "name": "python3"
  },
  "language_info": {
   "codemirror_mode": {
    "name": "ipython",
    "version": 3
   },
   "file_extension": ".py",
   "mimetype": "text/x-python",
   "name": "python",
   "nbconvert_exporter": "python",
   "pygments_lexer": "ipython3",
   "version": "3.13.0"
  }
 },
 "nbformat": 4,
 "nbformat_minor": 2
}
