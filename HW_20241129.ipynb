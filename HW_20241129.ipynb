{
 "cells": [
  {
   "cell_type": "markdown",
   "metadata": {},
   "source": [
    "Local variables"
   ]
  },
  {
   "cell_type": "code",
   "execution_count": 29,
   "metadata": {},
   "outputs": [
    {
     "name": "stdout",
     "output_type": "stream",
     "text": [
      "86.0\n"
     ]
    }
   ],
   "source": [
    "def tempConversion (celsiusTemp) :\n",
    "    fahrenheitTemp = (celsiusTemp*9/5)+32\n",
    "    return (fahrenheitTemp)\n",
    "convertedTemp = tempConversion (30)\n",
    "print (convertedTemp)"
   ]
  },
  {
   "cell_type": "markdown",
   "metadata": {},
   "source": [
    "Global variables"
   ]
  },
  {
   "cell_type": "code",
   "execution_count": 30,
   "metadata": {},
   "outputs": [
    {
     "name": "stdout",
     "output_type": "stream",
     "text": [
      "30\n"
     ]
    }
   ],
   "source": [
    "X = 10\n",
    "Y = 20\n",
    "def add (X,Y) :\n",
    "    sum = X+Y\n",
    "    return sum\n",
    "result = add (X,Y)\n",
    "print (result)\n",
    "\n",
    "def add (X,Y) :\n",
    "    sum = X+Y\n",
    "    return sum\n",
    "\n",
    "def sub (X,Y) :\n",
    "    diff = X-Y\n",
    "    return diff\n",
    "\n",
    "def mul (X,Y) :\n",
    "    prod = X*Y\n",
    "    return prod\n",
    "\n",
    "def div (X,Y) :\n",
    "    quo = X/Y\n",
    "    return quo"
   ]
  },
  {
   "cell_type": "markdown",
   "metadata": {},
   "source": [
    "Function Example:"
   ]
  },
  {
   "cell_type": "code",
   "execution_count": 31,
   "metadata": {},
   "outputs": [
    {
     "name": "stdout",
     "output_type": "stream",
     "text": [
      "8\n"
     ]
    }
   ],
   "source": [
    "def add(x, y):\n",
    "    return x + y\n",
    "\n",
    "result = add(3, 5)\n",
    "print(result)  # Output: 8\n"
   ]
  },
  {
   "cell_type": "markdown",
   "metadata": {},
   "source": [
    "Lambda Function Example:"
   ]
  },
  {
   "cell_type": "code",
   "execution_count": 32,
   "metadata": {},
   "outputs": [
    {
     "name": "stdout",
     "output_type": "stream",
     "text": [
      "8\n"
     ]
    }
   ],
   "source": [
    "add = lambda x, y: x + y\n",
    "\n",
    "result = add(3, 5)\n",
    "print(result)  # Output: 8"
   ]
  },
  {
   "cell_type": "code",
   "execution_count": 33,
   "metadata": {},
   "outputs": [
    {
     "name": "stdout",
     "output_type": "stream",
     "text": [
      "test.txt\n",
      "r\n",
      "False\n",
      "True\n",
      "Hello Word\n",
      "Hell\n",
      "Hello Word\n",
      "['Hello Word']\n",
      "Hello Word0\n",
      "Hell\n",
      "4\n",
      "Hell\n",
      "Hell\n",
      "Hello Word\n",
      "Hello WordPython is a great language.\n",
      "\n",
      "Python is a great language.\n",
      "\n",
      "Python is a great language.Python is a great language.\n"
     ]
    }
   ],
   "source": [
    "# File object Attributes\n",
    "myFlie = open(\"test.txt\", \"r\")\n",
    "print(myFlie.name)\n",
    "print(myFlie.mode)\n",
    "print(myFlie.closed)\n",
    "myFlie.close()\n",
    "print(myFlie.closed)\n",
    "\n",
    "# File object Methods\n",
    "myFlie = open(\"test.txt\", \"r\")\n",
    "print(myFlie.read())\n",
    "myFlie.close()\n",
    "\n",
    "myFlie = open(\"test.txt\", \"r\")\n",
    "print(myFlie.read(4))\n",
    "myFlie.close()\n",
    "\n",
    "myFlie = open(\"test.txt\", \"r\")\n",
    "print(myFlie.readline())\n",
    "myFlie.close()\n",
    "\n",
    "myFlie = open(\"test.txt\", \"r\")\n",
    "print(myFlie.readlines())\n",
    "myFlie.close()\n",
    "\n",
    "myFlie = open(\"test.txt\", \"r\")\n",
    "for line in myFlie:\n",
    "    print(line, end='')\n",
    "myFlie.close()\n",
    "\n",
    "myFlie = open(\"test.txt\", \"r\")\n",
    "print(myFlie.tell())\n",
    "print(myFlie.read(4))\n",
    "print(myFlie.tell())\n",
    "myFlie.close()\n",
    "\n",
    "myFlie = open(\"test.txt\", \"r\")\n",
    "print(myFlie.read(4))\n",
    "myFlie.seek(0)\n",
    "print(myFlie.read(4))\n",
    "myFlie.close()\n",
    "\n",
    "myFlie = open(\"test.txt\", \"r+\")\n",
    "print(myFlie.read())\n",
    "myFlie.write(\"Python is a great language.\")\n",
    "myFlie.seek(0)\n",
    "print(myFlie.read())\n",
    "myFlie.close()\n",
    "\n",
    "myFlie = open(\"test.txt\", \"w+\")\n",
    "print(myFlie.read())\n",
    "myFlie.write(\"Python is a great language.\")\n",
    "myFlie.seek(0)\n",
    "print(myFlie.read())\n",
    "myFlie.close()\n",
    "\n",
    "myFlie = open(\"test.txt\", \"a+\")\n",
    "print(myFlie.read())\n",
    "myFlie.write(\"Python is a great language.\")\n",
    "myFlie.seek(0)\n",
    "print(myFlie.read())\n",
    "myFlie.close()\n",
    "\n"
   ]
  }
 ],
 "metadata": {
  "kernelspec": {
   "display_name": "myenv",
   "language": "python",
   "name": "python3"
  },
  "language_info": {
   "codemirror_mode": {
    "name": "ipython",
    "version": 3
   },
   "file_extension": ".py",
   "mimetype": "text/x-python",
   "name": "python",
   "nbconvert_exporter": "python",
   "pygments_lexer": "ipython3",
   "version": "3.12.4"
  }
 },
 "nbformat": 4,
 "nbformat_minor": 2
}
