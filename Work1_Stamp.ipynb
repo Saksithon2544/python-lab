{
 "cells": [
  {
   "cell_type": "code",
   "execution_count": null,
   "metadata": {},
   "outputs": [
    {
     "name": "stdout",
     "output_type": "stream",
     "text": [
      "รวมเป็นเงิน 125 บาท\n",
      "ซื้อ Stamp 5 ดวง\n",
      "ได้เงินทอนมาเป็น \n",
      "    ธนบัตรใบละ 50 x 1\n",
      "    ธนบัตรใบละ 20 x 1\n",
      "    เหลือเศษ 5 บาท\n",
      "    ทิปให้พนักงาน\n"
     ]
    }
   ],
   "source": [
    "# ร้านขาย Stamp มี Stamp ขนาดเดียวคือดวงละ 25 บาท\n",
    "# ทดลองทำระบบทอนเงินอัตโนมัติ\n",
    "# เช่น รับจำนวนเงิน 500 ซื้อ Stamp 10 ดวง จะเหลือเงิน 250 บาท\n",
    "\n",
    "\"\"\" ระบบมี ธนบัตรใบละ 1000, 500, 100, 50, 20, 10 แบบไม่จำกัด\n",
    "    ถ้าเหลือเศษ จะยกเป็น ทิปให้พนักงาน โดยแสดงผลตามเงื่อนไขดังนี้\n",
    "    \n",
    "กรณีที่ 1 สมมุติว่ารับเงินมา 500 บาท                 \n",
    "ซื้อ Stamp 10 ดวง                 \n",
    "รวมเป็นเงิน 250 บาท               \n",
    "ได้เงินทอนมาเป็น                   \n",
    "    ธนบัตรใบละ 100 x 2           \n",
    "    ธนบัตรใบละ 50 x 1            \n",
    "    ไม่มีทิปให้พนักงาน\n",
    "    \n",
    "กรณีที่ 2 สมมุติว่ารับเงินมา 100 บาท\n",
    "ซื้อ Stamp 11 ดวง\n",
    "รวมเป็นเงิน 275 บาท\n",
    "เงินไม่พอ ซื้อได้แค่ 4 ดวง เป็นเงิน 100 บาท\n",
    "ไม่มีเงินทอน\n",
    "ไม่มีทิปให้พนักงาน\n",
    "\n",
    "\"\"\"\n",
    "\n",
    "stamp_price = 25  # ราคาของ Stamp ต่อดวง\n",
    "banknotes = [1000, 500, 100, 50, 20, 10]  # ธนบัตรที่ร้านรับ\n",
    "customer_money = int(input(\"รับเงินมา: \"))  # รับจำนวนเงินจากลูกค้า\n",
    "\n",
    "stamp_quantity = int(input(\"ซื้อ Stamp กี่ดวง: \"))  # รับจำนวน Stamp ที่ลูกค้าต้องการซื้อ\n",
    "\n",
    "total_price = stamp_price * stamp_quantity  # คำนวณราคารวมของ Stamp ที่ลูกค้าต้องการซื้อ\n",
    "\n",
    "if customer_money >= total_price:\n",
    "    change = customer_money - total_price  # คำนวณเงินทอนที่ลูกค้าจะได้รับกลับมา\n",
    "\n",
    "    # แบ่งเงินทอนเป็นธนบัตร\n",
    "    banknote_counts = {}  # เก็บจำนวนธนบัตรที่จะให้กลับในแต่ละค่า\n",
    "    for banknote in banknotes:\n",
    "        if change >= banknote:\n",
    "            count = change // banknote  # จำนวนธนบัตรที่จะให้กลับในแต่ละค่า\n",
    "            banknote_counts[banknote] = count\n",
    "            change -= count * banknote  # ลดเงินทอนที่เหลือ\n",
    "\n",
    "    # แสดงผลลัพธ์\n",
    "    print(f\"รวมเป็นเงิน {total_price} บาท\")\n",
    "    print(f\"ซื้อ Stamp {stamp_quantity} ดวง\")\n",
    "    print(\"ได้เงินทอนมาเป็น \")\n",
    "    for banknote, count in banknote_counts.items():\n",
    "        print(f\"    ธนบัตรใบละ {banknote} x {count}\")\n",
    "    if change > 0:\n",
    "        print(f\"    เหลือเศษ {change} บาท\")\n",
    "        print(\"    ทิปให้พนักงาน\")\n",
    "    else:\n",
    "        print(\"ไม่มีทิปให้พนักงาน\")\n",
    "else:\n",
    "    max_stamp_quantity = customer_money // stamp_price  # คำนวณจำนวน Stamp ที่ซื้อได้สูงสุด\n",
    "    print(f\"เงินที่รับมา: {customer_money} บาท\")\n",
    "    print(f\"ซื้อ Stamp {stamp_quantity} ดวง\")\n",
    "    print(f\"รวมเป็นเงิน {total_price} บาท\")\n",
    "    print(f\"เงินไม่พอ ซื้อได้แค่ {max_stamp_quantity} ดวง เป็นเงิน {max_stamp_quantity * stamp_price} บาท\")\n",
    "    print(\"ไม่มีเงินทอน\")\n",
    "    print(\"ไม่มีทิปให้พนักงาน\")\n",
    "\n"
   ]
  }
 ],
 "metadata": {
  "kernelspec": {
   "display_name": "Python 3",
   "language": "python",
   "name": "python3"
  },
  "language_info": {
   "codemirror_mode": {
    "name": "ipython",
    "version": 3
   },
   "file_extension": ".py",
   "mimetype": "text/x-python",
   "name": "python",
   "nbconvert_exporter": "python",
   "pygments_lexer": "ipython3",
   "version": "3.13.0"
  },
  "orig_nbformat": 4
 },
 "nbformat": 4,
 "nbformat_minor": 2
}
