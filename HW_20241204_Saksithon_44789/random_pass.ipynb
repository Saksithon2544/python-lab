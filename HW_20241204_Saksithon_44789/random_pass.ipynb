{
 "cells": [
  {
   "cell_type": "code",
   "execution_count": null,
   "metadata": {},
   "outputs": [
    {
     "name": "stdout",
     "output_type": "stream",
     "text": [
      "D7'[\n"
     ]
    }
   ],
   "source": [
    "import random\n",
    "import string\n",
    "\n",
    "length = int(input(\"Please enter the length of the password: \"))\n",
    "choice = int(input(\"Press enter choice (1: digits only, 2: letters only, 3: digits and letters, 4: digits, letters and special characters): \"))\n",
    "\n",
    "if choice == 1:\n",
    "    characters = string.digits\n",
    "    password = random.sample(characters, length)\n",
    "    password = ''.join(password)\n",
    "    \n",
    "elif choice == 2:\n",
    "    characters = string.ascii_letters\n",
    "    password = random.sample(characters, length)\n",
    "    password = ''.join(password)\n",
    "\n",
    "elif choice == 3:\n",
    "    characters = string.digits + string.ascii_letters\n",
    "    password = random.sample(characters, length)\n",
    "    password = ''.join(password)\n",
    "    \n",
    "elif choice == 4:\n",
    "    characters = string.digits + string.ascii_letters + string.punctuation\n",
    "    password = random.sample(characters, length)\n",
    "    password = ''.join(password)\n",
    "\n",
    "else:\n",
    "    print(\"Invalid choice\")\n",
    "    password = None\n",
    "\n",
    "print(\"Your password is: \", password)"
   ]
  },
  {
   "cell_type": "code",
   "execution_count": 3,
   "metadata": {},
   "outputs": [
    {
     "name": "stdout",
     "output_type": "stream",
     "text": [
      "Your password is:  jHc7vrxZOu\n"
     ]
    }
   ],
   "source": [
    "import random\n",
    "import string\n",
    "\n",
    "def password_generator(length, choice):\n",
    "    if choice == 1:\n",
    "        characters = string.digits\n",
    "        password = random.sample(characters, length)\n",
    "        password = ''.join(password)\n",
    "    elif choice == 2:\n",
    "        characters = string.ascii_letters\n",
    "        password = random.sample(characters, length)\n",
    "        password = ''.join(password)\n",
    "    elif choice == 3:\n",
    "        characters = string.digits + string.ascii_letters\n",
    "        password = random.sample(characters, length)\n",
    "        password = ''.join(password)\n",
    "    elif choice == 4:\n",
    "        characters = string.digits + string.ascii_letters + string.punctuation\n",
    "        password = random.sample(characters, length)\n",
    "        password = ''.join(password)\n",
    "    else:\n",
    "        print(\"Invalid choice\")\n",
    "        password = None\n",
    "    return password \n",
    "\n",
    "length = int(input(\"Please enter the length of the password: \"))\n",
    "choice = int(input(\"Press enter choice (1: digits only, 2: letters only, 3: digits and letters, 4: digits, letters and special characters): \"))\n",
    "password = password_generator(length, choice)\n",
    "print(\"Your password is: \", password)\n"
   ]
  }
 ],
 "metadata": {
  "kernelspec": {
   "display_name": "Python 3",
   "language": "python",
   "name": "python3"
  },
  "language_info": {
   "codemirror_mode": {
    "name": "ipython",
    "version": 3
   },
   "file_extension": ".py",
   "mimetype": "text/x-python",
   "name": "python",
   "nbconvert_exporter": "python",
   "pygments_lexer": "ipython3",
   "version": "3.13.0"
  }
 },
 "nbformat": 4,
 "nbformat_minor": 2
}
