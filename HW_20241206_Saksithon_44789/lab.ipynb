{
 "cells": [
  {
   "cell_type": "code",
   "execution_count": 2,
   "metadata": {},
   "outputs": [
    {
     "name": "stdout",
     "output_type": "stream",
     "text": [
      "/Users/saksithonmatcharet/.zshenv:1: no such file or directory: user/libexec/java_home\n",
      "Requirement already satisfied: pyperclip in /Users/saksithonmatcharet/Desktop/python-lab/venv/lib/python3.13/site-packages (1.9.0)\n",
      "Note: you may need to restart the kernel to use updated packages.\n"
     ]
    }
   ],
   "source": [
    "pip install pyperclip"
   ]
  },
  {
   "cell_type": "code",
   "execution_count": 6,
   "metadata": {},
   "outputs": [],
   "source": [
    "import random\n",
    "import string\n",
    "import tkinter as tk\n",
    "import pyperclip\n",
    "\n",
    "# Function to generate a password\n",
    "def generate_password():\n",
    "    length = lengthInput.get()\n",
    "    strength = strengthInput.get()\n",
    "\n",
    "    lower = string.ascii_lowercase\n",
    "    upper = string.ascii_uppercase\n",
    "    digits = string.digits\n",
    "    punctuation = string.punctuation\n",
    "\n",
    "    if strength == 0:  # Low strength: only letters and digits\n",
    "        password = ''.join(random.choices(lower + upper + digits, k=length))\n",
    "    elif strength == 1:  # Medium strength: letters, digits, and some punctuation\n",
    "        password = ''.join(random.choices(lower + upper + digits + punctuation[:5], k=length))\n",
    "    elif strength == 2:  # Strong strength: all possible characters\n",
    "        password = ''.join(random.choices(lower + upper + digits + punctuation, k=length))\n",
    "\n",
    "    # Update the password entry field\n",
    "    passwordDisplay.delete(0, tk.END)\n",
    "    passwordDisplay.insert(0, password)\n",
    "\n",
    "# Function to copy password to clipboard\n",
    "def copy_password():\n",
    "    pyperclip.copy(passwordDisplay.get())\n",
    "\n",
    "# Main Tkinter window\n",
    "root = tk.Tk()\n",
    "root.title(\"Random Password Generator\")\n",
    "\n",
    "# Inputs and labels\n",
    "lengthInput = tk.IntVar(value=8)\n",
    "strengthInput = tk.IntVar(value=0)\n",
    "\n",
    "tk.Label(root, text=\"Preferred Length\").grid(row=0, column=0)\n",
    "tk.Spinbox(root, from_=4, to=20, textvariable=lengthInput).grid(row=0, column=1)\n",
    "\n",
    "tk.Label(root, text=\"Preferred Strength\").grid(row=0, column=2)\n",
    "tk.Radiobutton(root, text=\"Low\", variable=strengthInput, value=0).grid(row=0, column=3)\n",
    "tk.Radiobutton(root, text=\"Medium\", variable=strengthInput, value=1).grid(row=0, column=4)\n",
    "tk.Radiobutton(root, text=\"Strong\", variable=strengthInput, value=2).grid(row=0, column=5)\n",
    "\n",
    "passwordDisplay = tk.Entry(root)\n",
    "passwordDisplay.grid(row=2, column=1)\n",
    "\n",
    "# Buttons and password display\n",
    "tk.Button(root, text=\"Generate Password\", command=generate_password).grid(row=2, column=2)\n",
    "tk.Label(root, text=\"Password\").grid(row=2, column=0)\n",
    "\n",
    "\n",
    "tk.Button(root, text=\"Copy to Clipboard\", command=copy_password).grid(row=2, column=3)\n",
    "\n",
    "# Run the Tkinter event loop\n",
    "root.mainloop()\n"
   ]
  }
 ],
 "metadata": {
  "kernelspec": {
   "display_name": "venv",
   "language": "python",
   "name": "python3"
  },
  "language_info": {
   "codemirror_mode": {
    "name": "ipython",
    "version": 3
   },
   "file_extension": ".py",
   "mimetype": "text/x-python",
   "name": "python",
   "nbconvert_exporter": "python",
   "pygments_lexer": "ipython3",
   "version": "3.13.0"
  }
 },
 "nbformat": 4,
 "nbformat_minor": 2
}
