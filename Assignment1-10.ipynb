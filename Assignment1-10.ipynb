{
 "cells": [
  {
   "cell_type": "code",
   "execution_count": 11,
   "id": "708de68e",
   "metadata": {},
   "outputs": [
    {
     "name": "stdout",
     "output_type": "stream",
     "text": [
      "Age: 25\n",
      "Height: 5.9\n",
      "Name: Saksithon\n",
      "Is Student: True\n",
      "Age: 25 Height: 5.9 Name: Saksithon Is Student: True\n",
      "Age: 25 Height: 5.9 Name: Saksithon Is Student: True\n",
      "Age: 25 Height: 5.9 Name: Saksithon Is Student: True\n",
      "Age: 25 Height: 5.9 Name: Saksithon Is Student: True\n",
      "Age: 25 Height: 5.900000 Name: Saksithon Is Student: True\n",
      "25 | 5.9 | Saksithon | True\n",
      "25 is type =  <class 'int'>\n",
      "5.9 is type =  <class 'float'>\n",
      "Saksithon is type =  <class 'str'>\n",
      "True is type =  <class 'bool'>\n"
     ]
    }
   ],
   "source": [
    "#Assignment 1: Variable Types\n",
    "#Objective: Understand and utilize different variable types in Python.\n",
    "\n",
    "# Defining variables\n",
    "age = 25  # Integer variable\n",
    "height = 5.9  # Float variable\n",
    "name = \"Saksithon\" # String variable\n",
    "is_student = True  # Boolean variable\n",
    "\n",
    "# Printing all the variables\n",
    "print(\"Age:\", age)\n",
    "print(\"Height:\", height)\n",
    "print(\"Name:\", name)\n",
    "print(\"Is Student:\", is_student)\n",
    "\n",
    "#Did you know that you can also print multiple variables in one line?\n",
    "print(\"Age:\", age, \"Height:\", height, \"Name:\", name, \"Is Student:\", is_student)\n",
    "\n",
    "#You can also use the format() method to print variables\n",
    "print(\"Age: {} Height: {} Name: {} Is Student: {}\".format(age, height, name, is_student))\n",
    "\n",
    "#You can also use f-string to print variables\n",
    "print(f\"Age: {age} Height: {height} Name: {name} Is Student: {is_student}\")\n",
    "\n",
    "#You can also use the + operator to concatenate strings\n",
    "print(\"Age: \" + str(age) + \" Height: \" + str(height) + \" Name: \" + name + \" Is Student: \" + str(is_student))\n",
    "\n",
    "#You can also use the % operator to format strings\n",
    "print(\"Age: %d Height: %f Name: %s Is Student: %s\" % (age, height, name, is_student))\n",
    "\n",
    "#You can also use the sep parameter to separate the variables\n",
    "print(age, height, name, is_student, sep=\" | \")\n",
    "\n",
    "#You can see the data type of a variable using the type() function\n",
    "print(age, \"is type = \", type(age))\n",
    "print(height, \"is type = \", type(height))\n",
    "print(name, \"is type = \", type(name))\n",
    "print(is_student, \"is type = \", type(is_student))\n",
    "\n"
   ]
  },
  {
   "cell_type": "code",
   "execution_count": 12,
   "id": "77ad6dd2",
   "metadata": {},
   "outputs": [
    {
     "name": "stdout",
     "output_type": "stream",
     "text": [
      "Uppercase: PYTHON PROGRAMMINGIS FUN\n",
      "Updated sentence: Python programming is awesome\n",
      "List of words: ['Python', 'programming', 'is', 'awesome']\n"
     ]
    }
   ],
   "source": [
    "# Assignment 2: String Manipulation \n",
    "# Objective: Learn various string operations and methods.\n",
    "\n",
    "# 1. Create a string variable named sentence\n",
    "sentence = \"Python programmingis fun\"\n",
    "\n",
    "# 2. Convert the string to uppercase and print it\n",
    "uppercase_sentence = sentence.upper()\n",
    "print(\"Uppercase:\", uppercase_sentence)\n",
    "\n",
    "# 3. Replace the word \"fun\" with \"awesome\" and print the new sentence\n",
    "# Note: There is no space between \"programming\" and \"is\" in the original string. Let's fix it before replacing.\n",
    "corrected_sentence = sentence.replace(\"programmingis\", \"programming is\")\n",
    "updated_sentence = corrected_sentence.replace(\"fun\", \"awesome\")\n",
    "print(\"Updated sentence:\", updated_sentence)\n",
    "\n",
    "# 4. Split the sentence into a list of words and print it\n",
    "words_list = updated_sentence.split()\n",
    "print(\"List of words:\", words_list)"
   ]
  },
  {
   "cell_type": "code",
   "execution_count": 13,
   "id": "1bfd63e2",
   "metadata": {},
   "outputs": [
    {
     "name": "stdout",
     "output_type": "stream",
     "text": [
      "List after adding 'red', 'green', 'blue': ['red', 'green', 'blue']\n",
      "Updated list: ['red', 'green', 'blue', 'yellow', 'purple']\n",
      "Length of the list: 5\n"
     ]
    }
   ],
   "source": [
    "# Assignment 3: List append() Method\n",
    "# Objective: Understand how to add elements to a list using append().\n",
    "\n",
    "# 1. Create an empty list named colors\n",
    "colors = []\n",
    "\n",
    "# 2. Use the append() method to add \"red\", \"green\", and \"blue\" to the list\n",
    "colors.append(\"red\")\n",
    "colors.append(\"green\")\n",
    "colors.append(\"blue\")\n",
    "\n",
    "# 3. Print the list\n",
    "print(\"List after adding 'red', 'green', 'blue':\", colors)\n",
    "\n",
    "# 4. Append \"yellow\" and \"purple\" to the list\n",
    "colors.append(\"yellow\")\n",
    "colors.append(\"purple\")\n",
    "\n",
    "# 5. Print the length of the list\n",
    "print(\"Updated list:\", colors)\n",
    "print(\"Length of the list:\", len(colors))"
   ]
  },
  {
   "cell_type": "code",
   "execution_count": 14,
   "id": "d8c35297",
   "metadata": {},
   "outputs": [
    {
     "name": "stdout",
     "output_type": "stream",
     "text": [
      "['cat', 'dog', 'bird', 'fish']\n"
     ]
    }
   ],
   "source": [
    "# Assignment 4: List remove() Method\n",
    "# Objective: Learn how to remove specific elements from a list using remove().\n",
    "\n",
    "# Step 1: Create a list named animals containing \"cat\", \"dog\", \"rabbit\", \"bird\", \"fish\".\n",
    "animals = [\"cat\", \"dog\", \"rabbit\", \"bird\", \"fish\"]\n",
    "\n",
    "# Step 2: Use the remove() method to remove \"rabbit\" from the list.\n",
    "animals.remove(\"rabbit\")\n",
    "\n",
    "# Step 3: Print the list.\n",
    "print(animals)"
   ]
  },
  {
   "cell_type": "code",
   "execution_count": 15,
   "id": "c957a3dd",
   "metadata": {},
   "outputs": [
    {
     "name": "stdout",
     "output_type": "stream",
     "text": [
      "[1, 2, 3, 4, 5, 6]\n",
      "[0, 1, 2, 3, 4, 5, 6]\n"
     ]
    }
   ],
   "source": [
    "#Assignment 5: List insert() Method\n",
    "#Objective: Learn how to insert elements at specific positions in a list using insert().\n",
    "\n",
    "# Step 1: Create a list named numbers containing the integers 1, 2, 4, 5, 6.\n",
    "numbers = [1, 2, 4, 5, 6]\n",
    "\n",
    "# Step 2: Use the insert() method to add the number 3 between 2 and 4.\n",
    "numbers.insert(2, 3)\n",
    "\n",
    "# Step 3: Print the list.\n",
    "print(numbers)\n",
    "\n",
    "# Step 4: Insert the number 0 at the beginning of the list.\n",
    "numbers.insert(0, 0)\n",
    "\n",
    "# Step 5: Print the final list of numbers.\n",
    "print(numbers)"
   ]
  },
  {
   "cell_type": "code",
   "execution_count": 16,
   "id": "63d0dbca",
   "metadata": {},
   "outputs": [
    {
     "name": "stdout",
     "output_type": "stream",
     "text": [
      "Removed city: Phoenix\n",
      "Final list of cities: ['Los Angeles', 'Chicago', 'Houston']\n"
     ]
    }
   ],
   "source": [
    "# Assignment 6: List pop() Method\n",
    "# Objective: Understand how to remove elements from a list using pop() and how to use the removed elements.\n",
    "\n",
    "# Step 1: Create a list named cities containing \"New York\", \"Los Angeles\", \"Chicago\", \"Houston\", \"Phoenix\".\n",
    "cities = [\"New York\", \"Los Angeles\", \"Chicago\", \"Houston\", \"Phoenix\"]\n",
    "\n",
    "# Step 2: Use the pop() method to remove the last element from the list and store it in a variable.\n",
    "removed_city = cities.pop()\n",
    "\n",
    "\n",
    "\n",
    "\n",
    "\n",
    "# Step 3: Print the variable holding the removed element.\n",
    "print(\"Removed city:\", removed_city)\n",
    "\n",
    "# Step 4: Use pop() to remove the first element from the list.\n",
    "cities.pop(0)\n",
    "\n",
    "# Step 5: Print the final list of cities.\n",
    "print(\"Final list of cities:\", cities)"
   ]
  },
  {
   "cell_type": "code",
   "execution_count": 17,
   "id": "1730e361",
   "metadata": {},
   "outputs": [
    {
     "name": "stdout",
     "output_type": "stream",
     "text": [
      "Sorted scores in ascending order: [75, 88, 89, 92]\n",
      "Sorted scores in descending order: [92, 89, 88, 75]\n",
      "Sorted names in alphabetical order: ['Alice', 'Bob', 'Charlie', 'David', 'Eve']\n"
     ]
    }
   ],
   "source": [
    "# Assignment 7: List sort() Method\n",
    "# Objective: Learn how to sort elements in a list using sort().\n",
    "\n",
    "# Step 1: Create a list named scores containing the following numbers: 88, 92, 75, 89\n",
    "scores = [88, 92, 75, 89]\n",
    "\n",
    "# Step 2: Use the sort() method to sort the list in ascending order.\n",
    "scores.sort()\n",
    "\n",
    "# Step 3: Print the sorted list.\n",
    "print(\"Sorted scores in ascending order:\", scores)\n",
    "\n",
    "# Step 4: Sort the list in descending order and print it.\n",
    "scores.sort(reverse=True)\n",
    "print(\"Sorted scores in descending order:\", scores)\n",
    "\n",
    "# Step 5: Create a list of strings named names containing \"Alice\", \"Bob\", \"Charlie\", \"David\", \"Eve\" and sort it in alphabetical order.\n",
    "names = [\"Alice\", \"Bob\", \"Charlie\", \"David\", \"Eve\"]\n",
    "names.sort()\n",
    "print(\"Sorted names in alphabetical order:\", names)"
   ]
  },
  {
   "cell_type": "code",
   "execution_count": 18,
   "id": "89de0cf2",
   "metadata": {},
   "outputs": [
    {
     "name": "stdout",
     "output_type": "stream",
     "text": [
      "Sorted fruits list: ['apple', 'cherry', 'orange']\n",
      "Length of the list: 3\n"
     ]
    }
   ],
   "source": [
    "# Assignment 8: Lists\n",
    "# Objective: Understand how to create and manipulate lists in Python.\n",
    "\n",
    "# Step 1: Create a list named fruits containing \"apple\", \"banana\", \"cherry\".\n",
    "fruits = [\"apple\", \"banana\", \"cherry\"]\n",
    "\n",
    "# Step 2: Add \"orange\" to the list.\n",
    "fruits.append(\"orange\")\n",
    "\n",
    "# Step 3: Remove \"banana\" from the list.\n",
    "fruits.remove(\"banana\")\n",
    "\n",
    "# Step 4: Sort the list in alphabetical order.\n",
    "fruits.sort()\n",
    "\n",
    "# Step 5: Print the length of the list.\n",
    "print(\"Sorted fruits list:\", fruits)\n",
    "print(\"Length of the list:\", len(fruits))"
   ]
  },
  {
   "cell_type": "code",
   "execution_count": 19,
   "id": "f0627e58",
   "metadata": {},
   "outputs": [
    {
     "name": "stdout",
     "output_type": "stream",
     "text": [
      "First 5 letters: ['A', 'B', 'C', 'D', 'E']\n",
      "Last 5 letters: ['F', 'G', 'H', 'I', 'J']\n",
      "Reversed list: ['J', 'I', 'H', 'G', 'F', 'E', 'D', 'C', 'B', 'A']\n"
     ]
    }
   ],
   "source": [
    "# Assignment 9: List Slicing\n",
    "# Objective: Learn how to slice lists to access sublists.\n",
    "\n",
    "# Step 1: Create a list named letters containing the first 10 letters of the alphabet.\n",
    "letters = ['A', 'B', 'C', 'D', 'E', 'F', 'G', 'H', 'I', 'J']\n",
    "\n",
    "# Step 2: Slice the list to get the first 5 letters and print the result.\n",
    "first_five_letters = letters[:5]\n",
    "print(\"First 5 letters:\", first_five_letters)\n",
    "\n",
    "# Step 3: Slice the list to get the last 5 letters and print the result.\n",
    "last_five_letters = letters[-5:]\n",
    "print(\"Last 5 letters:\", last_five_letters)\n",
    "\n",
    "# Step 4: Reverse the list and print the result.\n",
    "reversed_letters = letters[::-1]\n",
    "print(\"Reversed list:\", reversed_letters)"
   ]
  },
  {
   "cell_type": "code",
   "execution_count": 20,
   "id": "7665e1f7",
   "metadata": {},
   "outputs": [
    {
     "name": "stdout",
     "output_type": "stream",
     "text": [
      "Student dictionary: {'name': 'Saksithon', 'age': 25, 'grade': 'A'}\n",
      "Updated student dictionary: {'name': 'Saksithon', 'age': 25, 'school': 'Your School Name'}\n"
     ]
    }
   ],
   "source": [
    "# Assignment 10: Dictionary Basics\n",
    "# Objective: Learn how to create and use dictionaries in Python.\n",
    "\n",
    "# Step 1: Create a dictionary named student with keys: \"name\", \"age\", \"grade\".\n",
    "student = {\n",
    "    \"name\": name,\n",
    "    \"age\": age,\n",
    "    \"grade\": \"A\"\n",
    "}\n",
    "\n",
    "# Step 2: Set the values of the dictionary to your name, age, and a grade of your choice.\n",
    "# (Already done in the dictionary creation step)\n",
    "\n",
    "# Step 3: Print the dictionary.\n",
    "print(\"Student dictionary:\", student)\n",
    "\n",
    "# Step 4: Add a new key-value pair: \"school\" with the value of your school name.\n",
    "student[\"school\"] = \"Your School Name\"\n",
    "\n",
    "# Step 5: Remove the key \"grade\" from the dictionary and print the updated dictionary.\n",
    "student.pop(\"grade\")\n",
    "print(\"Updated student dictionary:\", student)"
   ]
  }
 ],
 "metadata": {
  "kernelspec": {
   "display_name": "Python 3",
   "language": "python",
   "name": "python3"
  },
  "language_info": {
   "codemirror_mode": {
    "name": "ipython",
    "version": 3
   },
   "file_extension": ".py",
   "mimetype": "text/x-python",
   "name": "python",
   "nbconvert_exporter": "python",
   "pygments_lexer": "ipython3",
   "version": "3.13.0"
  }
 },
 "nbformat": 4,
 "nbformat_minor": 5
}
