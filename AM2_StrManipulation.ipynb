{
 "cells": [
  {
   "cell_type": "code",
   "execution_count": 1,
   "metadata": {},
   "outputs": [
    {
     "name": "stdout",
     "output_type": "stream",
     "text": [
      "Uppercase: PYTHON PROGRAMMINGIS FUN\n",
      "Updated sentence: Python programming is awesome\n",
      "List of words: ['Python', 'programming', 'is', 'awesome']\n"
     ]
    }
   ],
   "source": [
    "# 1. Create a string variable named sentence\n",
    "sentence = \"Python programmingis fun\"\n",
    "\n",
    "# 2. Convert the string to uppercase and print it\n",
    "uppercase_sentence = sentence.upper()\n",
    "print(\"Uppercase:\", uppercase_sentence)\n",
    "\n",
    "# 3. Replace the word \"fun\" with \"awesome\" and print the new sentence\n",
    "# Note: There is no space between \"programming\" and \"is\" in the original string. Let's fix it before replacing.\n",
    "corrected_sentence = sentence.replace(\"programmingis\", \"programming is\")\n",
    "updated_sentence = corrected_sentence.replace(\"fun\", \"awesome\")\n",
    "print(\"Updated sentence:\", updated_sentence)\n",
    "\n",
    "# 4. Split the sentence into a list of words and print it\n",
    "words_list = updated_sentence.split()\n",
    "print(\"List of words:\", words_list)\n"
   ]
  }
 ],
 "metadata": {
  "kernelspec": {
   "display_name": "Python 3",
   "language": "python",
   "name": "python3"
  },
  "language_info": {
   "codemirror_mode": {
    "name": "ipython",
    "version": 3
   },
   "file_extension": ".py",
   "mimetype": "text/x-python",
   "name": "python",
   "nbconvert_exporter": "python",
   "pygments_lexer": "ipython3",
   "version": "3.13.0"
  }
 },
 "nbformat": 4,
 "nbformat_minor": 2
}
