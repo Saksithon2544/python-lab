{
 "cells": [
  {
   "cell_type": "code",
   "execution_count": 1,
   "id": "708de68e",
   "metadata": {},
   "outputs": [
    {
     "name": "stdout",
     "output_type": "stream",
     "text": [
      "Age: 25\n",
      "Height: 5.9\n",
      "Name: Saksithon\n",
      "Is Student: True\n",
      "Age: 25 Height: 5.9 Name: Saksithon Is Student: True\n",
      "Age: 25 Height: 5.9 Name: Saksithon Is Student: True\n",
      "Age: 25 Height: 5.9 Name: Saksithon Is Student: True\n",
      "Age: 25 Height: 5.9 Name: Saksithon Is Student: True\n",
      "Age: 25 Height: 5.900000 Name: Saksithon Is Student: True\n",
      "25 | 5.9 | Saksithon | True\n",
      "25 25 is type =  <class 'int'>\n",
      "5.9 is type =  <class 'float'>\n",
      "Saksithon is type =  <class 'str'>\n",
      "True is type =  <class 'bool'>\n"
     ]
    }
   ],
   "source": [
    "# Defining variables\n",
    "age = 25  # Integer variable\n",
    "height = 5.9  # Float variable\n",
    "name = \"Saksithon\" # String variable\n",
    "is_student = True  # Boolean variable\n",
    "\n",
    "# Printing all the variables\n",
    "print(\"Age:\", age)\n",
    "print(\"Height:\", height)\n",
    "print(\"Name:\", name)\n",
    "print(\"Is Student:\", is_student)\n",
    "\n",
    "#Did you know that you can also print multiple variables in one line?\n",
    "print(\"Age:\", age, \"Height:\", height, \"Name:\", name, \"Is Student:\", is_student)\n",
    "\n",
    "#You can also use the format() method to print variables\n",
    "print(\"Age: {} Height: {} Name: {} Is Student: {}\".format(age, height, name, is_student))\n",
    "\n",
    "#You can also use f-string to print variables\n",
    "print(f\"Age: {age} Height: {height} Name: {name} Is Student: {is_student}\")\n",
    "\n",
    "#You can also use the + operator to concatenate strings\n",
    "print(\"Age: \" + str(age) + \" Height: \" + str(height) + \" Name: \" + name + \" Is Student: \" + str(is_student))\n",
    "\n",
    "#You can also use the % operator to format strings\n",
    "print(\"Age: %d Height: %f Name: %s Is Student: %s\" % (age, height, name, is_student))\n",
    "\n",
    "#You can also use the sep parameter to separate the variables\n",
    "print(age, height, name, is_student, sep=\" | \")\n",
    "\n",
    "#You can also use the end parameter to end the print statement with a different character\n",
    "print(age, end=\" \")\n",
    "\n",
    "#You can see the data type of a variable using the type() function\n",
    "print(age, \"is type = \", type(age))\n",
    "print(height, \"is type = \", type(height))\n",
    "print(name, \"is type = \", type(name))\n",
    "print(is_student, \"is type = \", type(is_student))\n",
    "\n"
   ]
  },
  {
   "cell_type": "code",
   "execution_count": 2,
   "id": "77ad6dd2",
   "metadata": {},
   "outputs": [
    {
     "name": "stdout",
     "output_type": "stream",
     "text": [
      "Uppercase: PYTHON PROGRAMMINGIS FUN\n",
      "Updated sentence: Python programming is awesome\n",
      "List of words: ['Python', 'programming', 'is', 'awesome']\n"
     ]
    }
   ],
   "source": [
    "# Assignment 2: String Manipulation \n",
    "# Objective: Learn various string operations and methods.\n",
    "\n",
    "# 1. Create a string variable named sentence\n",
    "sentence = \"Python programmingis fun\"\n",
    "\n",
    "# 2. Convert the string to uppercase and print it\n",
    "uppercase_sentence = sentence.upper()\n",
    "print(\"Uppercase:\", uppercase_sentence)\n",
    "\n",
    "# 3. Replace the word \"fun\" with \"awesome\" and print the new sentence\n",
    "# Note: There is no space between \"programming\" and \"is\" in the original string. Let's fix it before replacing.\n",
    "corrected_sentence = sentence.replace(\"programmingis\", \"programming is\")\n",
    "updated_sentence = corrected_sentence.replace(\"fun\", \"awesome\")\n",
    "print(\"Updated sentence:\", updated_sentence)\n",
    "\n",
    "# 4. Split the sentence into a list of words and print it\n",
    "words_list = updated_sentence.split()\n",
    "print(\"List of words:\", words_list)"
   ]
  },
  {
   "cell_type": "code",
   "execution_count": 3,
   "id": "1bfd63e2",
   "metadata": {},
   "outputs": [
    {
     "name": "stdout",
     "output_type": "stream",
     "text": [
      "List after adding 'red', 'green', 'blue': ['red', 'green', 'blue']\n",
      "Updated list: ['red', 'green', 'blue', 'yellow', 'purple']\n",
      "Length of the list: 5\n"
     ]
    }
   ],
   "source": [
    "# Assignment 3: List append() Method\n",
    "# Objective: Understand how to add elements to a list using append().\n",
    "\n",
    "# 1. Create an empty list named colors\n",
    "colors = []\n",
    "\n",
    "# 2. Use the append() method to add \"red\", \"green\", and \"blue\" to the list\n",
    "colors.append(\"red\")\n",
    "colors.append(\"green\")\n",
    "colors.append(\"blue\")\n",
    "\n",
    "# 3. Print the list\n",
    "print(\"List after adding 'red', 'green', 'blue':\", colors)\n",
    "\n",
    "# 4. Append \"yellow\" and \"purple\" to the list\n",
    "colors.append(\"yellow\")\n",
    "colors.append(\"purple\")\n",
    "\n",
    "# 5. Print the length of the list\n",
    "print(\"Updated list:\", colors)\n",
    "print(\"Length of the list:\", len(colors))"
   ]
  },
  {
   "cell_type": "code",
   "execution_count": 4,
   "id": "d8c35297",
   "metadata": {},
   "outputs": [
    {
     "name": "stdout",
     "output_type": "stream",
     "text": [
      "['cat', 'dog', 'bird', 'fish']\n"
     ]
    }
   ],
   "source": [
    "# Assignment 4: List remove() Method\n",
    "# Objective: Learn how to remove specific elements from a list using remove().\n",
    "\n",
    "# Step 1: Create a list named animals containing \"cat\", \"dog\", \"rabbit\", \"bird\", \"fish\".\n",
    "animals = [\"cat\", \"dog\", \"rabbit\", \"bird\", \"fish\"]\n",
    "\n",
    "# Step 2: Use the remove() method to remove \"rabbit\" from the list.\n",
    "animals.remove(\"rabbit\")\n",
    "\n",
    "# Step 3: Print the list.\n",
    "print(animals)"
   ]
  },
  {
   "cell_type": "code",
   "execution_count": 5,
   "id": "c957a3dd",
   "metadata": {},
   "outputs": [
    {
     "name": "stdout",
     "output_type": "stream",
     "text": [
      "[1, 2, 3, 4, 5, 6]\n",
      "[0, 1, 2, 3, 4, 5, 6]\n"
     ]
    }
   ],
   "source": [
    "#Assignment 5: List insert() Method\n",
    "#Objective: Learn how to insert elements at specific positions in a list using insert().\n",
    "\n",
    "# Step 1: Create a list named numbers containing the integers 1, 2, 4, 5, 6.\n",
    "numbers = [1, 2, 4, 5, 6]\n",
    "\n",
    "# Step 2: Use the insert() method to add the number 3 between 2 and 4.\n",
    "numbers.insert(2, 3)\n",
    "\n",
    "# Step 3: Print the list.\n",
    "print(numbers)\n",
    "\n",
    "# Step 4: Insert the number 0 at the beginning of the list.\n",
    "numbers.insert(0, 0)\n",
    "\n",
    "# Step 5: Print the final list of numbers.\n",
    "print(numbers)"
   ]
  }
 ],
 "metadata": {
  "kernelspec": {
   "display_name": "Python 3",
   "language": "python",
   "name": "python3"
  },
  "language_info": {
   "codemirror_mode": {
    "name": "ipython",
    "version": 3
   },
   "file_extension": ".py",
   "mimetype": "text/x-python",
   "name": "python",
   "nbconvert_exporter": "python",
   "pygments_lexer": "ipython3",
   "version": "3.13.0"
  }
 },
 "nbformat": 4,
 "nbformat_minor": 5
}
