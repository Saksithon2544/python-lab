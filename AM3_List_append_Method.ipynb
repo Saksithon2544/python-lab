{
 "cells": [
  {
   "cell_type": "code",
   "execution_count": 3,
   "metadata": {
    "vscode": {
     "languageId": "ruby"
    }
   },
   "outputs": [
    {
     "name": "stdout",
     "output_type": "stream",
     "text": [
      "List after adding 'red', 'green', 'blue': ['red', 'green', 'blue']\n",
      "Updated list: ['red', 'green', 'blue', 'yellow', 'purple']\n",
      "Length of the list: 5\n"
     ]
    }
   ],
   "source": [
    "# Assignment 3: List append() Method\n",
    "# Objective: Understand how to add elements to a list using append().\n",
    "\n",
    "# 1. Create an empty list named colors\n",
    "colors = []\n",
    "\n",
    "# 2. Use the append() method to add \"red\", \"green\", and \"blue\" to the list\n",
    "colors.append(\"red\")\n",
    "colors.append(\"green\")\n",
    "colors.append(\"blue\")\n",
    "\n",
    "# 3. Print the list\n",
    "print(\"List after adding 'red', 'green', 'blue':\", colors)\n",
    "\n",
    "# 4. Append \"yellow\" and \"purple\" to the list\n",
    "colors.append(\"yellow\")\n",
    "colors.append(\"purple\")\n",
    "\n",
    "# 5. Print the length of the list\n",
    "print(\"Updated list:\", colors)\n",
    "print(\"Length of the list:\", len(colors))"
   ]
  }
 ],
 "metadata": {
  "kernelspec": {
   "display_name": "Python 3",
   "language": "python",
   "name": "python3"
  },
  "language_info": {
   "codemirror_mode": {
    "name": "ipython",
    "version": 3
   },
   "file_extension": ".py",
   "mimetype": "text/x-python",
   "name": "python",
   "nbconvert_exporter": "python",
   "pygments_lexer": "ipython3",
   "version": "3.13.0"
  }
 },
 "nbformat": 4,
 "nbformat_minor": 2
}
